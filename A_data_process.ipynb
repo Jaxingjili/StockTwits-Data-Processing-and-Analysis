{
 "cells": [
  {
   "cell_type": "markdown",
   "metadata": {},
   "source": [
    "# Data Processing\n",
    "This note book processes, cleans, and repacks the raw data into analysis data files"
   ]
  },
  {
   "cell_type": "code",
   "execution_count": null,
   "metadata": {},
   "outputs": [],
   "source": [
    "### Import packages\n",
    "import numpy as np\n",
    "import pandas as pd\n",
    "import seaborn as sns\n",
    "import os\n",
    "import glob\n",
    "import matplotlib.pyplot as  plt\n",
    "import json\n",
    "import yfinance as yf"
   ]
  },
  {
   "cell_type": "markdown",
   "metadata": {},
   "source": [
    "## Clean & Repack"
   ]
  },
  {
   "cell_type": "code",
   "execution_count": null,
   "metadata": {},
   "outputs": [],
   "source": [
    "# Directory where your CSV files are located\n",
    "directory = r'E:\\\\csv'\n",
    "\n",
    "# List all files in the directory\n",
    "all_files = os.listdir(directory)\n",
    "\n",
    "# Filter out only CSV files\n",
    "csv_files = [file for file in all_files if file.endswith('.csv')]\n",
    "\n",
    "### csv_files contains more than 560,000 small, raw csv files"
   ]
  },
  {
   "cell_type": "code",
   "execution_count": null,
   "metadata": {},
   "outputs": [],
   "source": [
    "### Extract symbols for each message, produce a symbol list column which is a list of tickers tagged by this message. \n",
    "\n",
    "def extract_symbols(symbol_list):\n",
    "    return [symbol_dict['symbol'] for symbol_dict in symbol_list]\n",
    "\n",
    "\n",
    "miss = []\n",
    "c = 0\n",
    "for i in csv_files[330000:]:\n",
    "    raw = pd.read_csv(f\"E:\\\\csv\\\\{i}\")\n",
    "\n",
    "    ## find missing message number\n",
    "    mn = 1000 - raw.shape[0]\n",
    "    miss.append({'file':i, \"missing\":mn})\n",
    "\n",
    "\n",
    "    mes = raw[['message_id', 'message_body']]\n",
    "    df = raw.drop(columns=['message_body'])\n",
    "    df['symbols'] = df['symbols'].fillna(\"[]\")\n",
    "    df['symbols'] = df['symbols'].apply(json.loads)\n",
    "\n",
    "\n",
    "    # Apply the function to the 'symbols' column to create a new column 'symbol_list'\n",
    "    df['symbol_list'] = df['symbols'].apply(extract_symbols)\n",
    "\n",
    "    # Optionally, you can drop the original 'symbols_str' and 'symbols' columns if you no longer need them\n",
    "    df.drop(columns=[ 'symbols'], inplace=True)\n",
    "\n",
    "    df.to_csv(f\"E:\\\\csv_no_mes\\\\{i}\")\n",
    "    mes.to_csv(f\"E:\\\\csv_mes\\\\{i}\")\n",
    "    c+=1\n",
    "    if c %5000 ==0:\n",
    "        print(str(c)+\" files processed\")"
   ]
  },
  {
   "cell_type": "code",
   "execution_count": null,
   "metadata": {},
   "outputs": [],
   "source": [
    "### Extract user-labeled  sentiment for each message, produce a sentiment column which could have values = (NaN, 'Bullish', 'Bearish')\n",
    "\n",
    "def get_sentiment(s):\n",
    "    if type(s) is str:\n",
    "        return s[11:18]\n",
    "    return s\n",
    "\n",
    "\n",
    "#miss = []\n",
    "dfs = []\n",
    "c = 0\n",
    "for i in csv_files[500000:]:\n",
    "    df = pd.read_csv(f\"E:\\\\csv_no_mes\\\\{i}\").drop_duplicates(subset='message_id')\n",
    "    ## find missing message number\n",
    "    #mn = 1000 - df.shape[0]\n",
    "    #miss.append({'file':i, \"missing\":mn})\n",
    "\n",
    "\n",
    "    df['sentiment'] = df['sentiment'].apply(get_sentiment)\n",
    "    df.drop(columns=['prices','Unnamed: 0'], inplace=True)\n",
    "\n",
    "    dfs.append(df)\n",
    "    c+=1\n",
    "    if c %10000 ==0:\n",
    "        print(str(c)+\" files processed\")"
   ]
  },
  {
   "cell_type": "code",
   "execution_count": null,
   "metadata": {},
   "outputs": [],
   "source": [
    "### Save the repacked csv\n",
    "big = pd.concat(dfs)\n",
    "big.to_csv(\"E:\\\\data_clean\\\\no_mes_part_6.csv\")"
   ]
  },
  {
   "cell_type": "markdown",
   "metadata": {},
   "source": [
    "## Make analysis files"
   ]
  },
  {
   "cell_type": "markdown",
   "metadata": {},
   "source": [
    "### Making no-daytime clean file, the total sizeis around 85% of the data_clean"
   ]
  },
  {
   "cell_type": "code",
   "execution_count": 2,
   "metadata": {},
   "outputs": [
    {
     "data": {
      "text/html": [
       "<div>\n",
       "<style scoped>\n",
       "    .dataframe tbody tr th:only-of-type {\n",
       "        vertical-align: middle;\n",
       "    }\n",
       "\n",
       "    .dataframe tbody tr th {\n",
       "        vertical-align: top;\n",
       "    }\n",
       "\n",
       "    .dataframe thead th {\n",
       "        text-align: right;\n",
       "    }\n",
       "</style>\n",
       "<table border=\"1\" class=\"dataframe\">\n",
       "  <thead>\n",
       "    <tr style=\"text-align: right;\">\n",
       "      <th></th>\n",
       "      <th>Unnamed: 0</th>\n",
       "      <th>message_id</th>\n",
       "      <th>user_id</th>\n",
       "      <th>created_at</th>\n",
       "      <th>sentiment</th>\n",
       "      <th>parent_message_id</th>\n",
       "      <th>in_reply_to_message_id</th>\n",
       "      <th>symbol_list</th>\n",
       "    </tr>\n",
       "  </thead>\n",
       "  <tbody>\n",
       "    <tr>\n",
       "      <th>0</th>\n",
       "      <td>0</td>\n",
       "      <td>4</td>\n",
       "      <td>593</td>\n",
       "      <td>2008-05-27T15:28:28Z</td>\n",
       "      <td>NaN</td>\n",
       "      <td>NaN</td>\n",
       "      <td>NaN</td>\n",
       "      <td>['V']</td>\n",
       "    </tr>\n",
       "    <tr>\n",
       "      <th>1</th>\n",
       "      <td>1</td>\n",
       "      <td>5</td>\n",
       "      <td>8687</td>\n",
       "      <td>2008-05-27T16:03:34Z</td>\n",
       "      <td>NaN</td>\n",
       "      <td>NaN</td>\n",
       "      <td>NaN</td>\n",
       "      <td>['NES']</td>\n",
       "    </tr>\n",
       "    <tr>\n",
       "      <th>2</th>\n",
       "      <td>2</td>\n",
       "      <td>6</td>\n",
       "      <td>549</td>\n",
       "      <td>2008-05-27T17:48:41Z</td>\n",
       "      <td>NaN</td>\n",
       "      <td>6.0</td>\n",
       "      <td>NaN</td>\n",
       "      <td>['AAPL']</td>\n",
       "    </tr>\n",
       "    <tr>\n",
       "      <th>3</th>\n",
       "      <td>3</td>\n",
       "      <td>7</td>\n",
       "      <td>170</td>\n",
       "      <td>2008-05-27T19:11:10Z</td>\n",
       "      <td>NaN</td>\n",
       "      <td>7.0</td>\n",
       "      <td>NaN</td>\n",
       "      <td>['XLE']</td>\n",
       "    </tr>\n",
       "    <tr>\n",
       "      <th>4</th>\n",
       "      <td>4</td>\n",
       "      <td>9</td>\n",
       "      <td>126</td>\n",
       "      <td>2008-05-27T22:39:09Z</td>\n",
       "      <td>NaN</td>\n",
       "      <td>NaN</td>\n",
       "      <td>NaN</td>\n",
       "      <td>['AAPL']</td>\n",
       "    </tr>\n",
       "  </tbody>\n",
       "</table>\n",
       "</div>"
      ],
      "text/plain": [
       "   Unnamed: 0  message_id  user_id            created_at sentiment  \\\n",
       "0           0           4      593  2008-05-27T15:28:28Z       NaN   \n",
       "1           1           5     8687  2008-05-27T16:03:34Z       NaN   \n",
       "2           2           6      549  2008-05-27T17:48:41Z       NaN   \n",
       "3           3           7      170  2008-05-27T19:11:10Z       NaN   \n",
       "4           4           9      126  2008-05-27T22:39:09Z       NaN   \n",
       "\n",
       "   parent_message_id  in_reply_to_message_id symbol_list  \n",
       "0                NaN                     NaN       ['V']  \n",
       "1                NaN                     NaN     ['NES']  \n",
       "2                6.0                     NaN    ['AAPL']  \n",
       "3                7.0                     NaN     ['XLE']  \n",
       "4                NaN                     NaN    ['AAPL']  "
      ]
     },
     "execution_count": 2,
     "metadata": {},
     "output_type": "execute_result"
    }
   ],
   "source": [
    "clean1 = pd.read_csv(\"E:\\\\data_clean\\\\no_mes_part_1.csv\")"
   ]
  },
  {
   "cell_type": "code",
   "execution_count": null,
   "metadata": {},
   "outputs": [],
   "source": [
    "# making no-daytime clean file. \n",
    "for i in range(1,7):\n",
    "    df = pd.read_csv(f\"E:\\\\data_clean\\\\no_mes_part_{i}.csv\").drop(columns=['Unnamed: 0'])\n",
    "    print('file loaded.')\n",
    "    df['created_at'] =  [i[:10] for i in df['created_at']]\n",
    "    print('date modified.')\n",
    "    df['sentiment'] = df['sentiment'].replace({'Bullish': 1, 'Bearish': -1})\n",
    "    print('sentiment reformed')\n",
    "    df['parent_message_id'] = df['parent_message_id'].astype('Int64')\n",
    "    df['in_reply_to_message_id'] = df['in_reply_to_message_id'].astype('Int64')\n",
    "    print('mes_id type aligned.')\n",
    "    # Replace parent_message_id and in_reply_to_message_id with NaN if they are the same as message_id\n",
    "    df.loc[df['parent_message_id'] == df['message_id'], 'parent_message_id'] = pd.NA\n",
    "    df.loc[df['in_reply_to_message_id'] == df['message_id'], 'in_reply_to_message_id'] = pd.NA\n",
    "    print('mes_id reformed')\n",
    "    df.to_csv(f\"E:\\\\clean_no_time\\\\no_mes_part_{i}.csv\")\n",
    "    print('file saved. ')"
   ]
  },
  {
   "cell_type": "markdown",
   "metadata": {},
   "source": [
    "### Making count_by_date file"
   ]
  },
  {
   "cell_type": "code",
   "execution_count": 34,
   "metadata": {},
   "outputs": [],
   "source": [
    "topath = \"E:\\\\analysis_data\""
   ]
  },
  {
   "cell_type": "code",
   "execution_count": 37,
   "metadata": {},
   "outputs": [
    {
     "data": {
      "text/html": [
       "<div>\n",
       "<style scoped>\n",
       "    .dataframe tbody tr th:only-of-type {\n",
       "        vertical-align: middle;\n",
       "    }\n",
       "\n",
       "    .dataframe tbody tr th {\n",
       "        vertical-align: top;\n",
       "    }\n",
       "\n",
       "    .dataframe thead th {\n",
       "        text-align: right;\n",
       "    }\n",
       "</style>\n",
       "<table border=\"1\" class=\"dataframe\">\n",
       "  <thead>\n",
       "    <tr style=\"text-align: right;\">\n",
       "      <th></th>\n",
       "      <th>created_at</th>\n",
       "      <th>message_id</th>\n",
       "      <th>user_id</th>\n",
       "      <th>parent_message_id</th>\n",
       "      <th>in_reply_to_message_id</th>\n",
       "    </tr>\n",
       "  </thead>\n",
       "  <tbody>\n",
       "    <tr>\n",
       "      <th>0</th>\n",
       "      <td>2008-05-27</td>\n",
       "      <td>4</td>\n",
       "      <td>593</td>\n",
       "      <td>NaN</td>\n",
       "      <td>NaN</td>\n",
       "    </tr>\n",
       "    <tr>\n",
       "      <th>1</th>\n",
       "      <td>2008-05-27</td>\n",
       "      <td>5</td>\n",
       "      <td>8687</td>\n",
       "      <td>NaN</td>\n",
       "      <td>NaN</td>\n",
       "    </tr>\n",
       "    <tr>\n",
       "      <th>2</th>\n",
       "      <td>2008-05-27</td>\n",
       "      <td>6</td>\n",
       "      <td>549</td>\n",
       "      <td>NaN</td>\n",
       "      <td>NaN</td>\n",
       "    </tr>\n",
       "    <tr>\n",
       "      <th>3</th>\n",
       "      <td>2008-05-27</td>\n",
       "      <td>7</td>\n",
       "      <td>170</td>\n",
       "      <td>NaN</td>\n",
       "      <td>NaN</td>\n",
       "    </tr>\n",
       "    <tr>\n",
       "      <th>4</th>\n",
       "      <td>2008-05-27</td>\n",
       "      <td>9</td>\n",
       "      <td>126</td>\n",
       "      <td>NaN</td>\n",
       "      <td>NaN</td>\n",
       "    </tr>\n",
       "  </tbody>\n",
       "</table>\n",
       "</div>"
      ],
      "text/plain": [
       "   created_at  message_id  user_id  parent_message_id  in_reply_to_message_id\n",
       "0  2008-05-27           4      593                NaN                     NaN\n",
       "1  2008-05-27           5     8687                NaN                     NaN\n",
       "2  2008-05-27           6      549                NaN                     NaN\n",
       "3  2008-05-27           7      170                NaN                     NaN\n",
       "4  2008-05-27           9      126                NaN                     NaN"
      ]
     },
     "execution_count": 37,
     "metadata": {},
     "output_type": "execute_result"
    }
   ],
   "source": [
    "df = pd.read_csv('E:\\\\clean_no_time\\\\no_mes_part_1.csv')[['created_at','message_id','user_id','parent_message_id','in_reply_to_message_id']]\n",
    "df.head()"
   ]
  },
  {
   "cell_type": "code",
   "execution_count": 44,
   "metadata": {},
   "outputs": [],
   "source": [
    "rlis = []\n",
    "for i in range(1,7):\n",
    "    df = pd.read_csv(f'E:\\\\clean_no_time\\\\no_mes_part_{i}.csv')[['created_at','message_id','user_id','parent_message_id','in_reply_to_message_id']]\n",
    "    result = df.groupby('created_at').agg(\n",
    "    message_id_count=('message_id', 'count'),\n",
    "    parent_message_id_count=('parent_message_id', 'count'),\n",
    "    in_reply_to_message_id_count=('in_reply_to_message_id', 'count'),\n",
    "    unique_user_id_count=('user_id', 'nunique')\n",
    ").reset_index()\n",
    "    rlis.append(result)"
   ]
  },
  {
   "cell_type": "code",
   "execution_count": 45,
   "metadata": {},
   "outputs": [
    {
     "name": "stderr",
     "output_type": "stream",
     "text": [
      "C:\\Users\\xl2860\\AppData\\Local\\Temp\\20\\ipykernel_8808\\3176953268.py:6: FutureWarning: The default value of numeric_only in DataFrameGroupBy.sum is deprecated. In a future version, numeric_only will default to False. Either specify numeric_only or select only columns which should be valid for the function.\n",
      "  big_result_df = combined_df.groupby('date').sum().reset_index()\n"
     ]
    }
   ],
   "source": [
    "combined_df = pd.concat(rlis)\n",
    "\n",
    "# Ensure the date column is in datetime format (optional, if needed)\n",
    "combined_df['date'] = pd.to_datetime(combined_df['created_at'])\n",
    "# Group by date and sum the values\n",
    "big_result_df = combined_df.groupby('date').sum().reset_index()"
   ]
  },
  {
   "cell_type": "code",
   "execution_count": 47,
   "metadata": {},
   "outputs": [
    {
     "data": {
      "text/html": [
       "<div>\n",
       "<style scoped>\n",
       "    .dataframe tbody tr th:only-of-type {\n",
       "        vertical-align: middle;\n",
       "    }\n",
       "\n",
       "    .dataframe tbody tr th {\n",
       "        vertical-align: top;\n",
       "    }\n",
       "\n",
       "    .dataframe thead th {\n",
       "        text-align: right;\n",
       "    }\n",
       "</style>\n",
       "<table border=\"1\" class=\"dataframe\">\n",
       "  <thead>\n",
       "    <tr style=\"text-align: right;\">\n",
       "      <th></th>\n",
       "      <th>date</th>\n",
       "      <th>message_id_count</th>\n",
       "      <th>parent_message_id_count</th>\n",
       "      <th>in_reply_to_message_id_count</th>\n",
       "      <th>unique_user_id_count</th>\n",
       "    </tr>\n",
       "  </thead>\n",
       "  <tbody>\n",
       "    <tr>\n",
       "      <th>0</th>\n",
       "      <td>2008-05-27</td>\n",
       "      <td>5</td>\n",
       "      <td>0</td>\n",
       "      <td>0</td>\n",
       "      <td>5</td>\n",
       "    </tr>\n",
       "    <tr>\n",
       "      <th>1</th>\n",
       "      <td>2008-05-28</td>\n",
       "      <td>11</td>\n",
       "      <td>0</td>\n",
       "      <td>0</td>\n",
       "      <td>11</td>\n",
       "    </tr>\n",
       "    <tr>\n",
       "      <th>2</th>\n",
       "      <td>2008-05-29</td>\n",
       "      <td>26</td>\n",
       "      <td>0</td>\n",
       "      <td>0</td>\n",
       "      <td>13</td>\n",
       "    </tr>\n",
       "    <tr>\n",
       "      <th>3</th>\n",
       "      <td>2008-05-30</td>\n",
       "      <td>29</td>\n",
       "      <td>0</td>\n",
       "      <td>0</td>\n",
       "      <td>17</td>\n",
       "    </tr>\n",
       "    <tr>\n",
       "      <th>4</th>\n",
       "      <td>2008-05-31</td>\n",
       "      <td>3</td>\n",
       "      <td>0</td>\n",
       "      <td>0</td>\n",
       "      <td>3</td>\n",
       "    </tr>\n",
       "    <tr>\n",
       "      <th>...</th>\n",
       "      <td>...</td>\n",
       "      <td>...</td>\n",
       "      <td>...</td>\n",
       "      <td>...</td>\n",
       "      <td>...</td>\n",
       "    </tr>\n",
       "    <tr>\n",
       "      <th>5590</th>\n",
       "      <td>2023-12-29</td>\n",
       "      <td>21080</td>\n",
       "      <td>8906</td>\n",
       "      <td>8906</td>\n",
       "      <td>9892</td>\n",
       "    </tr>\n",
       "    <tr>\n",
       "      <th>5591</th>\n",
       "      <td>2023-12-30</td>\n",
       "      <td>4537</td>\n",
       "      <td>2321</td>\n",
       "      <td>2321</td>\n",
       "      <td>2416</td>\n",
       "    </tr>\n",
       "    <tr>\n",
       "      <th>5592</th>\n",
       "      <td>2023-12-31</td>\n",
       "      <td>6650</td>\n",
       "      <td>3220</td>\n",
       "      <td>3220</td>\n",
       "      <td>3010</td>\n",
       "    </tr>\n",
       "    <tr>\n",
       "      <th>5593</th>\n",
       "      <td>2024-01-01</td>\n",
       "      <td>5505</td>\n",
       "      <td>2437</td>\n",
       "      <td>2438</td>\n",
       "      <td>2894</td>\n",
       "    </tr>\n",
       "    <tr>\n",
       "      <th>5594</th>\n",
       "      <td>2024-01-02</td>\n",
       "      <td>22255</td>\n",
       "      <td>8350</td>\n",
       "      <td>8350</td>\n",
       "      <td>10327</td>\n",
       "    </tr>\n",
       "  </tbody>\n",
       "</table>\n",
       "<p>5595 rows × 5 columns</p>\n",
       "</div>"
      ],
      "text/plain": [
       "           date  message_id_count  parent_message_id_count  \\\n",
       "0    2008-05-27                 5                        0   \n",
       "1    2008-05-28                11                        0   \n",
       "2    2008-05-29                26                        0   \n",
       "3    2008-05-30                29                        0   \n",
       "4    2008-05-31                 3                        0   \n",
       "...         ...               ...                      ...   \n",
       "5590 2023-12-29             21080                     8906   \n",
       "5591 2023-12-30              4537                     2321   \n",
       "5592 2023-12-31              6650                     3220   \n",
       "5593 2024-01-01              5505                     2437   \n",
       "5594 2024-01-02             22255                     8350   \n",
       "\n",
       "      in_reply_to_message_id_count  unique_user_id_count  \n",
       "0                                0                     5  \n",
       "1                                0                    11  \n",
       "2                                0                    13  \n",
       "3                                0                    17  \n",
       "4                                0                     3  \n",
       "...                            ...                   ...  \n",
       "5590                          8906                  9892  \n",
       "5591                          2321                  2416  \n",
       "5592                          3220                  3010  \n",
       "5593                          2438                  2894  \n",
       "5594                          8350                 10327  \n",
       "\n",
       "[5595 rows x 5 columns]"
      ]
     },
     "execution_count": 47,
     "metadata": {},
     "output_type": "execute_result"
    }
   ],
   "source": [
    "big_result_df = big_result_df.sort_values(by = 'date')\n",
    "big_result_df"
   ]
  },
  {
   "cell_type": "code",
   "execution_count": 48,
   "metadata": {},
   "outputs": [
    {
     "data": {
      "text/plain": [
       "<Axes: xlabel='date', ylabel='message_id_count'>"
      ]
     },
     "execution_count": 48,
     "metadata": {},
     "output_type": "execute_result"
    },
    {
     "data": {
      "image/png": "[encoded data removed]",
      "text/plain": [
       "<Figure size 640x480 with 1 Axes>"
      ]
     },
     "metadata": {},
     "output_type": "display_data"
    }
   ],
   "source": [
    "sns.lineplot(data = big_result_df, x = 'date', y = 'message_id_count')"
   ]
  },
  {
   "cell_type": "code",
   "execution_count": 52,
   "metadata": {},
   "outputs": [],
   "source": [
    "big_result_df.to_csv('E:\\\\analysis_data\\\\count_by_date.csv')"
   ]
  },
  {
   "cell_type": "markdown",
   "metadata": {},
   "source": [
    "### Making have_symbol file"
   ]
  },
  {
   "cell_type": "code",
   "execution_count": 66,
   "metadata": {},
   "outputs": [
    {
     "name": "stdout",
     "output_type": "stream",
     "text": [
      "for part 1\n",
      "original shape: (95188749, 5)\n",
      "have symbol shape: (49336814, 5)\n",
      "have symbol and sentiment shape: (18212058, 5)\n",
      "have sentiment shape: (27799302, 5)\n",
      "for part 2\n",
      "original shape: (88639165, 5)\n",
      "have symbol shape: (43882251, 5)\n",
      "have symbol and sentiment shape: (20287630, 5)\n",
      "have sentiment shape: (31671162, 5)\n",
      "for part 3\n",
      "original shape: (86651214, 5)\n",
      "have symbol shape: (44868352, 5)\n",
      "have symbol and sentiment shape: (22973400, 5)\n",
      "have sentiment shape: (35861788, 5)\n",
      "for part 4\n",
      "original shape: (96060583, 5)\n",
      "have symbol shape: (49898213, 5)\n",
      "have symbol and sentiment shape: (25371003, 5)\n",
      "have sentiment shape: (39212683, 5)\n",
      "for part 5\n",
      "original shape: (87757046, 5)\n",
      "have symbol shape: (48325043, 5)\n",
      "have symbol and sentiment shape: (20538047, 5)\n",
      "have sentiment shape: (29937859, 5)\n",
      "for part 6\n",
      "original shape: (47145533, 5)\n",
      "have symbol shape: (25814839, 5)\n",
      "have symbol and sentiment shape: (7855256, 5)\n",
      "have sentiment shape: (11320364, 5)\n"
     ]
    }
   ],
   "source": [
    "for i in range(1,7):\n",
    "    df = pd.read_csv(f'E:\\\\clean_no_time\\\\no_mes_part_{i}.csv').drop(columns = ['Unnamed: 0','parent_message_id','in_reply_to_message_id'])\n",
    "    print(f\"for part {i}\")\n",
    "    print(f'original shape: {df.shape}')\n",
    "\n",
    "    use1 = df.loc[df['symbol_list'] != '[]']\n",
    "    use1.to_csv(f\"E:\\\\analysis_data\\\\have_symbol\\\\part_{i}.csv\")\n",
    "    print(f'have symbol shape: {use1.shape}')\n",
    "\n",
    "    use2 = use1.loc[use1['sentiment'].notna()]\n",
    "    use2.to_csv(f\"E:\\\\analysis_data\\\\have_symbol_sentiment\\\\part_{i}.csv\")\n",
    "    print(f'have symbol and sentiment shape: {use2.shape}')\n",
    "\n",
    "\n",
    "    use3 = df.loc[df['sentiment'].notna()]\n",
    "    use3.to_csv(f\"E:\\\\analysis_data\\\\have_sentiment\\\\part_{i}.csv\")\n",
    "    print(f'have sentiment shape: {use3.shape}')"
   ]
  },
  {
   "cell_type": "markdown",
   "metadata": {},
   "source": [
    "for part 1\\\\\n",
    "original shape: (95188749, 5)\\\\\n",
    "have symbol shape: (49336814, 5)\\\\\n",
    "have symbol and sentiment shape: (18212058, 5)\\\\\n",
    "have sentiment shape: (27799302, 5)\\\\\n",
    "for part 2\\\\\n",
    "original shape: (88639165, 5)\n",
    "have symbol shape: (43882251, 5)\n",
    "have symbol and sentiment shape: (20287630, 5)\n",
    "have sentiment shape: (31671162, 5)\n",
    "for part 3\n",
    "original shape: (86651214, 5)\n",
    "have symbol shape: (44868352, 5)\n",
    "have symbol and sentiment shape: (22973400, 5)\n",
    "have sentiment shape: (35861788, 5)\n",
    "for part 4\n",
    "original shape: (96060583, 5)\n",
    "have symbol shape: (49898213, 5)\n",
    "have symbol and sentiment shape: (25371003, 5)\n",
    "have sentiment shape: (39212683, 5)\n",
    "for part 5\n",
    "original shape: (87757046, 5)\n",
    "have symbol shape: (48325043, 5)\n",
    "have symbol and sentiment shape: (20538047, 5)\n",
    "have sentiment shape: (29937859, 5)\n",
    "for part 6\n",
    "original shape: (47145533, 5)\n",
    "have symbol shape: (25814839, 5)\n",
    "have symbol and sentiment shape: (7855256, 5)\n",
    "have sentiment shape: (11320364, 5"
   ]
  },
  {
   "cell_type": "markdown",
   "metadata": {},
   "source": [
    "### Making mes_date file and missing message number file"
   ]
  },
  {
   "cell_type": "code",
   "execution_count": 3,
   "metadata": {},
   "outputs": [
    {
     "name": "stdout",
     "output_type": "stream",
     "text": [
      "no_mes_part_1.csv done\n",
      "no_mes_part_2.csv done\n",
      "no_mes_part_3.csv done\n",
      "no_mes_part_4.csv done\n",
      "no_mes_part_5.csv done\n",
      "no_mes_part_6.csv done\n"
     ]
    }
   ],
   "source": [
    "dfs = []\n",
    "for i in range(1,7):\n",
    "    sub = pd.read_csv(f\"E:\\\\clean_no_time\\\\no_mes_part_{i}.csv\")[['message_id','created_at']]\n",
    "    dfs.append(sub)\n",
    "    print(f\"no_mes_part_{i}.csv done\")\n",
    "sub = ''\n",
    "big = pd.concat(dfs)\n",
    "dfs = ''"
   ]
  },
  {
   "cell_type": "code",
   "execution_count": 21,
   "metadata": {},
   "outputs": [],
   "source": [
    "# big = big.sort_values(by = ['created_at','message_id'])\n",
    "# big.head()\n",
    "big = pd.read_csv(\"E:\\\\analysis_data\\\\mes_date.csv\")"
   ]
  },
  {
   "cell_type": "code",
   "execution_count": 22,
   "metadata": {},
   "outputs": [],
   "source": [
    "### strange ones\n",
    "big['message_diff'] = big['message_id'].diff()\n",
    "check = big.loc[(big['created_at']<='2022-12-31')&(big['message_diff']<0)]"
   ]
  },
  {
   "cell_type": "code",
   "execution_count": 28,
   "metadata": {},
   "outputs": [
    {
     "data": {
      "text/html": [
       "<div>\n",
       "<style scoped>\n",
       "    .dataframe tbody tr th:only-of-type {\n",
       "        vertical-align: middle;\n",
       "    }\n",
       "\n",
       "    .dataframe tbody tr th {\n",
       "        vertical-align: top;\n",
       "    }\n",
       "\n",
       "    .dataframe thead th {\n",
       "        text-align: right;\n",
       "    }\n",
       "</style>\n",
       "<table border=\"1\" class=\"dataframe\">\n",
       "  <thead>\n",
       "    <tr style=\"text-align: right;\">\n",
       "      <th></th>\n",
       "      <th>Unnamed: 0</th>\n",
       "      <th>message_id</th>\n",
       "      <th>created_at</th>\n",
       "      <th>message_diff</th>\n",
       "    </tr>\n",
       "  </thead>\n",
       "  <tbody>\n",
       "    <tr>\n",
       "      <th>1573211</th>\n",
       "      <td>13740302</td>\n",
       "      <td>2029053</td>\n",
       "      <td>2010-10-27</td>\n",
       "      <td>-26711.0</td>\n",
       "    </tr>\n",
       "    <tr>\n",
       "      <th>2352761</th>\n",
       "      <td>9703148</td>\n",
       "      <td>2900105</td>\n",
       "      <td>2011-02-19</td>\n",
       "      <td>-1036.0</td>\n",
       "    </tr>\n",
       "    <tr>\n",
       "      <th>37910172</th>\n",
       "      <td>43892853</td>\n",
       "      <td>41096581</td>\n",
       "      <td>2015-08-11</td>\n",
       "      <td>-5.0</td>\n",
       "    </tr>\n",
       "    <tr>\n",
       "      <th>38043013</th>\n",
       "      <td>45425648</td>\n",
       "      <td>41240721</td>\n",
       "      <td>2015-08-13</td>\n",
       "      <td>-2.0</td>\n",
       "    </tr>\n",
       "    <tr>\n",
       "      <th>38185262</th>\n",
       "      <td>47088937</td>\n",
       "      <td>41397736</td>\n",
       "      <td>2015-08-17</td>\n",
       "      <td>-1.0</td>\n",
       "    </tr>\n",
       "    <tr>\n",
       "      <th>...</th>\n",
       "      <td>...</td>\n",
       "      <td>...</td>\n",
       "      <td>...</td>\n",
       "      <td>...</td>\n",
       "    </tr>\n",
       "    <tr>\n",
       "      <th>85505734</th>\n",
       "      <td>38501771</td>\n",
       "      <td>91727707</td>\n",
       "      <td>2017-08-11</td>\n",
       "      <td>-3.0</td>\n",
       "    </tr>\n",
       "    <tr>\n",
       "      <th>85905915</th>\n",
       "      <td>38946124</td>\n",
       "      <td>92151938</td>\n",
       "      <td>2017-08-16</td>\n",
       "      <td>-2.0</td>\n",
       "    </tr>\n",
       "    <tr>\n",
       "      <th>86162981</th>\n",
       "      <td>39230883</td>\n",
       "      <td>92423172</td>\n",
       "      <td>2017-08-18</td>\n",
       "      <td>-2.0</td>\n",
       "    </tr>\n",
       "    <tr>\n",
       "      <th>164216099</th>\n",
       "      <td>78413458</td>\n",
       "      <td>174207884</td>\n",
       "      <td>2019-08-15</td>\n",
       "      <td>-1.0</td>\n",
       "    </tr>\n",
       "    <tr>\n",
       "      <th>258479159</th>\n",
       "      <td>88355437</td>\n",
       "      <td>279687932</td>\n",
       "      <td>2021-01-29</td>\n",
       "      <td>-4.0</td>\n",
       "    </tr>\n",
       "  </tbody>\n",
       "</table>\n",
       "<p>106 rows × 4 columns</p>\n",
       "</div>"
      ],
      "text/plain": [
       "           Unnamed: 0  message_id  created_at  message_diff\n",
       "1573211      13740302     2029053  2010-10-27      -26711.0\n",
       "2352761       9703148     2900105  2011-02-19       -1036.0\n",
       "37910172     43892853    41096581  2015-08-11          -5.0\n",
       "38043013     45425648    41240721  2015-08-13          -2.0\n",
       "38185262     47088937    41397736  2015-08-17          -1.0\n",
       "...               ...         ...         ...           ...\n",
       "85505734     38501771    91727707  2017-08-11          -3.0\n",
       "85905915     38946124    92151938  2017-08-16          -2.0\n",
       "86162981     39230883    92423172  2017-08-18          -2.0\n",
       "164216099    78413458   174207884  2019-08-15          -1.0\n",
       "258479159    88355437   279687932  2021-01-29          -4.0\n",
       "\n",
       "[106 rows x 4 columns]"
      ]
     },
     "execution_count": 28,
     "metadata": {},
     "output_type": "execute_result"
    }
   ],
   "source": [
    "check.head(106)"
   ]
  },
  {
   "cell_type": "code",
   "execution_count": 5,
   "metadata": {},
   "outputs": [
    {
     "name": "stderr",
     "output_type": "stream",
     "text": [
      "C:\\Users\\xl2860\\AppData\\Local\\Temp\\22\\ipykernel_2056\\2250582362.py:3: SettingWithCopyWarning: \n",
      "A value is trying to be set on a copy of a slice from a DataFrame.\n",
      "Try using .loc[row_indexer,col_indexer] = value instead\n",
      "\n",
      "See the caveats in the documentation: https://pandas.pydata.org/pandas-docs/stable/user_guide/indexing.html#returning-a-view-versus-a-copy\n",
      "  use['missing_btw'] = use['message_diff'] - 1\n"
     ]
    }
   ],
   "source": [
    "big['message_diff'] = big['message_id'].diff()\n",
    "use = big.loc[(big['created_at']<='2022-12-31')&(big['message_diff']>0)&(big['message_diff']<10)]\n",
    "use['missing_btw'] = use['message_diff'] - 1"
   ]
  },
  {
   "cell_type": "code",
   "execution_count": 17,
   "metadata": {},
   "outputs": [
    {
     "data": {
      "text/html": [
       "<div>\n",
       "<style scoped>\n",
       "    .dataframe tbody tr th:only-of-type {\n",
       "        vertical-align: middle;\n",
       "    }\n",
       "\n",
       "    .dataframe tbody tr th {\n",
       "        vertical-align: top;\n",
       "    }\n",
       "\n",
       "    .dataframe thead th {\n",
       "        text-align: right;\n",
       "    }\n",
       "</style>\n",
       "<table border=\"1\" class=\"dataframe\">\n",
       "  <thead>\n",
       "    <tr style=\"text-align: right;\">\n",
       "      <th></th>\n",
       "      <th>created_at</th>\n",
       "      <th>missing_btw</th>\n",
       "      <th>month</th>\n",
       "    </tr>\n",
       "  </thead>\n",
       "  <tbody>\n",
       "    <tr>\n",
       "      <th>0</th>\n",
       "      <td>2008-05-27</td>\n",
       "      <td>1.0</td>\n",
       "      <td>2008-05-01</td>\n",
       "    </tr>\n",
       "    <tr>\n",
       "      <th>1</th>\n",
       "      <td>2008-05-28</td>\n",
       "      <td>15.0</td>\n",
       "      <td>2008-05-01</td>\n",
       "    </tr>\n",
       "    <tr>\n",
       "      <th>2</th>\n",
       "      <td>2008-05-29</td>\n",
       "      <td>20.0</td>\n",
       "      <td>2008-05-01</td>\n",
       "    </tr>\n",
       "    <tr>\n",
       "      <th>3</th>\n",
       "      <td>2008-05-30</td>\n",
       "      <td>15.0</td>\n",
       "      <td>2008-05-01</td>\n",
       "    </tr>\n",
       "    <tr>\n",
       "      <th>4</th>\n",
       "      <td>2008-05-31</td>\n",
       "      <td>0.0</td>\n",
       "      <td>2008-05-01</td>\n",
       "    </tr>\n",
       "  </tbody>\n",
       "</table>\n",
       "</div>"
      ],
      "text/plain": [
       "   created_at  missing_btw      month\n",
       "0  2008-05-27          1.0 2008-05-01\n",
       "1  2008-05-28         15.0 2008-05-01\n",
       "2  2008-05-29         20.0 2008-05-01\n",
       "3  2008-05-30         15.0 2008-05-01\n",
       "4  2008-05-31          0.0 2008-05-01"
      ]
     },
     "execution_count": 17,
     "metadata": {},
     "output_type": "execute_result"
    }
   ],
   "source": [
    "use1['month'] = [pd.to_datetime(i[:7]) for i in use1['created_at']]\n",
    "use1.head()"
   ]
  },
  {
   "cell_type": "code",
   "execution_count": 16,
   "metadata": {},
   "outputs": [],
   "source": [
    "use1.to_csv(\"E:\\\\analysis_data\\\\miss_by_date.csv\")"
   ]
  },
  {
   "cell_type": "code",
   "execution_count": 18,
   "metadata": {},
   "outputs": [
    {
     "data": {
      "text/html": [
       "<div>\n",
       "<style scoped>\n",
       "    .dataframe tbody tr th:only-of-type {\n",
       "        vertical-align: middle;\n",
       "    }\n",
       "\n",
       "    .dataframe tbody tr th {\n",
       "        vertical-align: top;\n",
       "    }\n",
       "\n",
       "    .dataframe thead th {\n",
       "        text-align: right;\n",
       "    }\n",
       "</style>\n",
       "<table border=\"1\" class=\"dataframe\">\n",
       "  <thead>\n",
       "    <tr style=\"text-align: right;\">\n",
       "      <th></th>\n",
       "      <th>month</th>\n",
       "      <th>missing_btw</th>\n",
       "    </tr>\n",
       "  </thead>\n",
       "  <tbody>\n",
       "    <tr>\n",
       "      <th>0</th>\n",
       "      <td>2008-05-01</td>\n",
       "      <td>51.0</td>\n",
       "    </tr>\n",
       "    <tr>\n",
       "      <th>1</th>\n",
       "      <td>2008-06-01</td>\n",
       "      <td>431.0</td>\n",
       "    </tr>\n",
       "    <tr>\n",
       "      <th>2</th>\n",
       "      <td>2008-07-01</td>\n",
       "      <td>570.0</td>\n",
       "    </tr>\n",
       "    <tr>\n",
       "      <th>3</th>\n",
       "      <td>2008-08-01</td>\n",
       "      <td>537.0</td>\n",
       "    </tr>\n",
       "    <tr>\n",
       "      <th>4</th>\n",
       "      <td>2008-09-01</td>\n",
       "      <td>1187.0</td>\n",
       "    </tr>\n",
       "  </tbody>\n",
       "</table>\n",
       "</div>"
      ],
      "text/plain": [
       "       month  missing_btw\n",
       "0 2008-05-01         51.0\n",
       "1 2008-06-01        431.0\n",
       "2 2008-07-01        570.0\n",
       "3 2008-08-01        537.0\n",
       "4 2008-09-01       1187.0"
      ]
     },
     "execution_count": 18,
     "metadata": {},
     "output_type": "execute_result"
    }
   ],
   "source": [
    "use2 = use1[['month','missing_btw']].groupby(by = 'month').sum().reset_index()\n",
    "use2.head()"
   ]
  },
  {
   "cell_type": "code",
   "execution_count": 19,
   "metadata": {},
   "outputs": [
    {
     "data": {
      "text/plain": [
       "<Axes: xlabel='month', ylabel='missing_btw'>"
      ]
     },
     "execution_count": 19,
     "metadata": {},
     "output_type": "execute_result"
    },
    {
     "data": {
      "image/png": "[encoded data removed]",
      "text/plain": [
       "<Figure size 640x480 with 1 Axes>"
      ]
     },
     "metadata": {},
     "output_type": "display_data"
    }
   ],
   "source": [
    "sns.lineplot(data = use2, x = 'month',y = 'missing_btw')"
   ]
  },
  {
   "cell_type": "code",
   "execution_count": 10,
   "metadata": {},
   "outputs": [],
   "source": [
    "#big.to_csv(\"E:\\\\analysis_data\\\\mes_date.csv\")"
   ]
  },
  {
   "cell_type": "code",
   "execution_count": 11,
   "metadata": {},
   "outputs": [
    {
     "data": {
      "text/plain": [
       "(501442290, 3)"
      ]
     },
     "execution_count": 11,
     "metadata": {},
     "output_type": "execute_result"
    }
   ],
   "source": [
    "big.shape"
   ]
  },
  {
   "cell_type": "code",
   "execution_count": 12,
   "metadata": {},
   "outputs": [],
   "source": [
    "big = big.loc[big['created_at']<='2022-12-31']"
   ]
  },
  {
   "cell_type": "code",
   "execution_count": 16,
   "metadata": {},
   "outputs": [
    {
     "data": {
      "text/html": [
       "<div>\n",
       "<style scoped>\n",
       "    .dataframe tbody tr th:only-of-type {\n",
       "        vertical-align: middle;\n",
       "    }\n",
       "\n",
       "    .dataframe tbody tr th {\n",
       "        vertical-align: top;\n",
       "    }\n",
       "\n",
       "    .dataframe thead th {\n",
       "        text-align: right;\n",
       "    }\n",
       "</style>\n",
       "<table border=\"1\" class=\"dataframe\">\n",
       "  <thead>\n",
       "    <tr style=\"text-align: right;\">\n",
       "      <th></th>\n",
       "      <th>Unnamed: 0</th>\n",
       "      <th>message_id</th>\n",
       "      <th>created_at</th>\n",
       "      <th>message_diff</th>\n",
       "    </tr>\n",
       "  </thead>\n",
       "  <tbody>\n",
       "    <tr>\n",
       "      <th>293</th>\n",
       "      <td>293</td>\n",
       "      <td>443</td>\n",
       "      <td>2008-06-09</td>\n",
       "      <td>11.0</td>\n",
       "    </tr>\n",
       "    <tr>\n",
       "      <th>344</th>\n",
       "      <td>344</td>\n",
       "      <td>535</td>\n",
       "      <td>2008-06-10</td>\n",
       "      <td>15.0</td>\n",
       "    </tr>\n",
       "    <tr>\n",
       "      <th>385</th>\n",
       "      <td>385</td>\n",
       "      <td>602</td>\n",
       "      <td>2008-06-11</td>\n",
       "      <td>10.0</td>\n",
       "    </tr>\n",
       "    <tr>\n",
       "      <th>815</th>\n",
       "      <td>815</td>\n",
       "      <td>1347</td>\n",
       "      <td>2008-07-01</td>\n",
       "      <td>14.0</td>\n",
       "    </tr>\n",
       "    <tr>\n",
       "      <th>1071</th>\n",
       "      <td>1071</td>\n",
       "      <td>1797</td>\n",
       "      <td>2008-07-14</td>\n",
       "      <td>10.0</td>\n",
       "    </tr>\n",
       "    <tr>\n",
       "      <th>...</th>\n",
       "      <td>...</td>\n",
       "      <td>...</td>\n",
       "      <td>...</td>\n",
       "      <td>...</td>\n",
       "    </tr>\n",
       "    <tr>\n",
       "      <th>464414784</th>\n",
       "      <td>46109492</td>\n",
       "      <td>504028204</td>\n",
       "      <td>2022-12-31</td>\n",
       "      <td>11.0</td>\n",
       "    </tr>\n",
       "    <tr>\n",
       "      <th>464415038</th>\n",
       "      <td>46109745</td>\n",
       "      <td>504028612</td>\n",
       "      <td>2022-12-31</td>\n",
       "      <td>10.0</td>\n",
       "    </tr>\n",
       "    <tr>\n",
       "      <th>464418321</th>\n",
       "      <td>46113994</td>\n",
       "      <td>504032610</td>\n",
       "      <td>2022-12-31</td>\n",
       "      <td>10.0</td>\n",
       "    </tr>\n",
       "    <tr>\n",
       "      <th>464418503</th>\n",
       "      <td>46114176</td>\n",
       "      <td>504032830</td>\n",
       "      <td>2022-12-31</td>\n",
       "      <td>11.0</td>\n",
       "    </tr>\n",
       "    <tr>\n",
       "      <th>464419973</th>\n",
       "      <td>46115647</td>\n",
       "      <td>504034686</td>\n",
       "      <td>2022-12-31</td>\n",
       "      <td>12.0</td>\n",
       "    </tr>\n",
       "  </tbody>\n",
       "</table>\n",
       "<p>224066 rows × 4 columns</p>\n",
       "</div>"
      ],
      "text/plain": [
       "           Unnamed: 0  message_id  created_at  message_diff\n",
       "293               293         443  2008-06-09          11.0\n",
       "344               344         535  2008-06-10          15.0\n",
       "385               385         602  2008-06-11          10.0\n",
       "815               815        1347  2008-07-01          14.0\n",
       "1071             1071        1797  2008-07-14          10.0\n",
       "...               ...         ...         ...           ...\n",
       "464414784    46109492   504028204  2022-12-31          11.0\n",
       "464415038    46109745   504028612  2022-12-31          10.0\n",
       "464418321    46113994   504032610  2022-12-31          10.0\n",
       "464418503    46114176   504032830  2022-12-31          11.0\n",
       "464419973    46115647   504034686  2022-12-31          12.0\n",
       "\n",
       "[224066 rows x 4 columns]"
      ]
     },
     "execution_count": 16,
     "metadata": {},
     "output_type": "execute_result"
    }
   ],
   "source": [
    "strange = big.loc[(big['message_diff'] >= 10)]\n",
    "strange"
   ]
  },
  {
   "cell_type": "code",
   "execution_count": 14,
   "metadata": {},
   "outputs": [
    {
     "data": {
      "text/plain": [
       "<Axes: xlabel='message_diff', ylabel='Count'>"
      ]
     },
     "execution_count": 14,
     "metadata": {},
     "output_type": "execute_result"
    },
    {
     "data": {
      "image/png": "[encoded data removed]",
      "text/plain": [
       "<Figure size 640x480 with 1 Axes>"
      ]
     },
     "metadata": {},
     "output_type": "display_data"
    }
   ],
   "source": [
    "sns.histplot(data = big, x = 'message_diff')"
   ]
  },
  {
   "cell_type": "code",
   "execution_count": 15,
   "metadata": {},
   "outputs": [
    {
     "data": {
      "text/plain": [
       "<Axes: xlabel='message_diff', ylabel='Count'>"
      ]
     },
     "execution_count": 15,
     "metadata": {},
     "output_type": "execute_result"
    },
    {
     "data": {
      "image/png": "[encoded data removed]",
      "text/plain": [
       "<Figure size 640x480 with 1 Axes>"
      ]
     },
     "metadata": {},
     "output_type": "display_data"
    }
   ],
   "source": [
    "sns.histplot(data = big.loc[big['message_diff']>0], x = 'message_diff')"
   ]
  },
  {
   "cell_type": "code",
   "execution_count": 18,
   "metadata": {},
   "outputs": [],
   "source": [
    "check = big.loc[big['created_at'] == '2010-10-27']"
   ]
  },
  {
   "cell_type": "code",
   "execution_count": 19,
   "metadata": {},
   "outputs": [
    {
     "data": {
      "text/html": [
       "<div>\n",
       "<style scoped>\n",
       "    .dataframe tbody tr th:only-of-type {\n",
       "        vertical-align: middle;\n",
       "    }\n",
       "\n",
       "    .dataframe tbody tr th {\n",
       "        vertical-align: top;\n",
       "    }\n",
       "\n",
       "    .dataframe thead th {\n",
       "        text-align: right;\n",
       "    }\n",
       "</style>\n",
       "<table border=\"1\" class=\"dataframe\">\n",
       "  <thead>\n",
       "    <tr style=\"text-align: right;\">\n",
       "      <th></th>\n",
       "      <th>message_id</th>\n",
       "      <th>created_at</th>\n",
       "      <th>message_diff</th>\n",
       "    </tr>\n",
       "  </thead>\n",
       "  <tbody>\n",
       "    <tr>\n",
       "      <th>13740302</th>\n",
       "      <td>2029053</td>\n",
       "      <td>2010-10-27</td>\n",
       "      <td>-26711.0</td>\n",
       "    </tr>\n",
       "    <tr>\n",
       "      <th>13740303</th>\n",
       "      <td>2029054</td>\n",
       "      <td>2010-10-27</td>\n",
       "      <td>1.0</td>\n",
       "    </tr>\n",
       "    <tr>\n",
       "      <th>13740304</th>\n",
       "      <td>2029055</td>\n",
       "      <td>2010-10-27</td>\n",
       "      <td>1.0</td>\n",
       "    </tr>\n",
       "    <tr>\n",
       "      <th>13740305</th>\n",
       "      <td>2029056</td>\n",
       "      <td>2010-10-27</td>\n",
       "      <td>1.0</td>\n",
       "    </tr>\n",
       "    <tr>\n",
       "      <th>13740306</th>\n",
       "      <td>2029057</td>\n",
       "      <td>2010-10-27</td>\n",
       "      <td>1.0</td>\n",
       "    </tr>\n",
       "    <tr>\n",
       "      <th>...</th>\n",
       "      <td>...</td>\n",
       "      <td>...</td>\n",
       "      <td>...</td>\n",
       "    </tr>\n",
       "    <tr>\n",
       "      <th>14378271</th>\n",
       "      <td>2035440</td>\n",
       "      <td>2010-10-27</td>\n",
       "      <td>1.0</td>\n",
       "    </tr>\n",
       "    <tr>\n",
       "      <th>14378272</th>\n",
       "      <td>2035441</td>\n",
       "      <td>2010-10-27</td>\n",
       "      <td>1.0</td>\n",
       "    </tr>\n",
       "    <tr>\n",
       "      <th>14378273</th>\n",
       "      <td>2035442</td>\n",
       "      <td>2010-10-27</td>\n",
       "      <td>1.0</td>\n",
       "    </tr>\n",
       "    <tr>\n",
       "      <th>14378274</th>\n",
       "      <td>2035443</td>\n",
       "      <td>2010-10-27</td>\n",
       "      <td>1.0</td>\n",
       "    </tr>\n",
       "    <tr>\n",
       "      <th>14378275</th>\n",
       "      <td>2035444</td>\n",
       "      <td>2010-10-27</td>\n",
       "      <td>1.0</td>\n",
       "    </tr>\n",
       "  </tbody>\n",
       "</table>\n",
       "<p>5509 rows × 3 columns</p>\n",
       "</div>"
      ],
      "text/plain": [
       "          message_id  created_at  message_diff\n",
       "13740302     2029053  2010-10-27      -26711.0\n",
       "13740303     2029054  2010-10-27           1.0\n",
       "13740304     2029055  2010-10-27           1.0\n",
       "13740305     2029056  2010-10-27           1.0\n",
       "13740306     2029057  2010-10-27           1.0\n",
       "...              ...         ...           ...\n",
       "14378271     2035440  2010-10-27           1.0\n",
       "14378272     2035441  2010-10-27           1.0\n",
       "14378273     2035442  2010-10-27           1.0\n",
       "14378274     2035443  2010-10-27           1.0\n",
       "14378275     2035444  2010-10-27           1.0\n",
       "\n",
       "[5509 rows x 3 columns]"
      ]
     },
     "execution_count": 19,
     "metadata": {},
     "output_type": "execute_result"
    }
   ],
   "source": [
    "check"
   ]
  },
  {
   "cell_type": "code",
   "execution_count": 23,
   "metadata": {},
   "outputs": [],
   "source": [
    "check2 = big.reset_index().loc[big['created_at'] == '2010-10-26']"
   ]
  },
  {
   "cell_type": "code",
   "execution_count": null,
   "metadata": {},
   "outputs": [
    {
     "data": {
      "text/html": [
       "<div>\n",
       "<style scoped>\n",
       "    .dataframe tbody tr th:only-of-type {\n",
       "        vertical-align: middle;\n",
       "    }\n",
       "\n",
       "    .dataframe tbody tr th {\n",
       "        vertical-align: top;\n",
       "    }\n",
       "\n",
       "    .dataframe thead th {\n",
       "        text-align: right;\n",
       "    }\n",
       "</style>\n",
       "<table border=\"1\" class=\"dataframe\">\n",
       "  <thead>\n",
       "    <tr style=\"text-align: right;\">\n",
       "      <th></th>\n",
       "      <th>message_id</th>\n",
       "      <th>created_at</th>\n",
       "      <th>message_diff</th>\n",
       "    </tr>\n",
       "  </thead>\n",
       "  <tbody>\n",
       "    <tr>\n",
       "      <th>13740287</th>\n",
       "      <td>2029035</td>\n",
       "      <td>2010-10-26</td>\n",
       "      <td>1.0</td>\n",
       "    </tr>\n",
       "    <tr>\n",
       "      <th>13740288</th>\n",
       "      <td>2029036</td>\n",
       "      <td>2010-10-26</td>\n",
       "      <td>1.0</td>\n",
       "    </tr>\n",
       "    <tr>\n",
       "      <th>13740289</th>\n",
       "      <td>2029037</td>\n",
       "      <td>2010-10-26</td>\n",
       "      <td>1.0</td>\n",
       "    </tr>\n",
       "    <tr>\n",
       "      <th>13740290</th>\n",
       "      <td>2029038</td>\n",
       "      <td>2010-10-26</td>\n",
       "      <td>1.0</td>\n",
       "    </tr>\n",
       "    <tr>\n",
       "      <th>13740291</th>\n",
       "      <td>2029039</td>\n",
       "      <td>2010-10-26</td>\n",
       "      <td>1.0</td>\n",
       "    </tr>\n",
       "    <tr>\n",
       "      <th>13740292</th>\n",
       "      <td>2029040</td>\n",
       "      <td>2010-10-26</td>\n",
       "      <td>1.0</td>\n",
       "    </tr>\n",
       "    <tr>\n",
       "      <th>13740293</th>\n",
       "      <td>2029041</td>\n",
       "      <td>2010-10-26</td>\n",
       "      <td>1.0</td>\n",
       "    </tr>\n",
       "    <tr>\n",
       "      <th>13740294</th>\n",
       "      <td>2029042</td>\n",
       "      <td>2010-10-26</td>\n",
       "      <td>1.0</td>\n",
       "    </tr>\n",
       "    <tr>\n",
       "      <th>13740295</th>\n",
       "      <td>2029043</td>\n",
       "      <td>2010-10-26</td>\n",
       "      <td>1.0</td>\n",
       "    </tr>\n",
       "    <tr>\n",
       "      <th>13740296</th>\n",
       "      <td>2029045</td>\n",
       "      <td>2010-10-26</td>\n",
       "      <td>2.0</td>\n",
       "    </tr>\n",
       "    <tr>\n",
       "      <th>13740297</th>\n",
       "      <td>2029047</td>\n",
       "      <td>2010-10-26</td>\n",
       "      <td>2.0</td>\n",
       "    </tr>\n",
       "    <tr>\n",
       "      <th>13740298</th>\n",
       "      <td>2029048</td>\n",
       "      <td>2010-10-26</td>\n",
       "      <td>1.0</td>\n",
       "    </tr>\n",
       "    <tr>\n",
       "      <th>13740299</th>\n",
       "      <td>2029049</td>\n",
       "      <td>2010-10-26</td>\n",
       "      <td>1.0</td>\n",
       "    </tr>\n",
       "    <tr>\n",
       "      <th>13740300</th>\n",
       "      <td>2029050</td>\n",
       "      <td>2010-10-26</td>\n",
       "      <td>1.0</td>\n",
       "    </tr>\n",
       "    <tr>\n",
       "      <th>13740301</th>\n",
       "      <td>2029051</td>\n",
       "      <td>2010-10-26</td>\n",
       "      <td>1.0</td>\n",
       "    </tr>\n",
       "    <tr>\n",
       "      <th>13740892</th>\n",
       "      <td>2029761</td>\n",
       "      <td>2010-10-26</td>\n",
       "      <td>710.0</td>\n",
       "    </tr>\n",
       "    <tr>\n",
       "      <th>14697595</th>\n",
       "      <td>2038035</td>\n",
       "      <td>2010-10-26</td>\n",
       "      <td>8274.0</td>\n",
       "    </tr>\n",
       "    <tr>\n",
       "      <th>15124851</th>\n",
       "      <td>2042747</td>\n",
       "      <td>2010-10-26</td>\n",
       "      <td>4712.0</td>\n",
       "    </tr>\n",
       "    <tr>\n",
       "      <th>15760496</th>\n",
       "      <td>2048198</td>\n",
       "      <td>2010-10-26</td>\n",
       "      <td>5451.0</td>\n",
       "    </tr>\n",
       "    <tr>\n",
       "      <th>16506546</th>\n",
       "      <td>2055764</td>\n",
       "      <td>2010-10-26</td>\n",
       "      <td>7566.0</td>\n",
       "    </tr>\n",
       "  </tbody>\n",
       "</table>\n",
       "</div>"
      ],
      "text/plain": [
       "          message_id  created_at  message_diff\n",
       "13740287     2029035  2010-10-26           1.0\n",
       "13740288     2029036  2010-10-26           1.0\n",
       "13740289     2029037  2010-10-26           1.0\n",
       "13740290     2029038  2010-10-26           1.0\n",
       "13740291     2029039  2010-10-26           1.0\n",
       "13740292     2029040  2010-10-26           1.0\n",
       "13740293     2029041  2010-10-26           1.0\n",
       "13740294     2029042  2010-10-26           1.0\n",
       "13740295     2029043  2010-10-26           1.0\n",
       "13740296     2029045  2010-10-26           2.0\n",
       "13740297     2029047  2010-10-26           2.0\n",
       "13740298     2029048  2010-10-26           1.0\n",
       "13740299     2029049  2010-10-26           1.0\n",
       "13740300     2029050  2010-10-26           1.0\n",
       "13740301     2029051  2010-10-26           1.0\n",
       "13740892     2029761  2010-10-26         710.0\n",
       "14697595     2038035  2010-10-26        8274.0\n",
       "15124851     2042747  2010-10-26        4712.0\n",
       "15760496     2048198  2010-10-26        5451.0\n",
       "16506546     2055764  2010-10-26        7566.0"
      ]
     },
     "execution_count": 22,
     "metadata": {},
     "output_type": "execute_result"
    }
   ],
   "source": [
    "check2.tail(20)"
   ]
  },
  {
   "cell_type": "markdown",
   "metadata": {},
   "source": [
    "### Check missing and total message_count"
   ]
  },
  {
   "cell_type": "code",
   "execution_count": 4,
   "metadata": {},
   "outputs": [],
   "source": [
    "miss = pd.read_csv(\"E:\\\\analysis_data\\\\miss_by_date.csv\").drop(columns = 'Unnamed: 0')\n",
    "cnt = pd.read_csv(\"E:\\\\analysis_data\\\\count_by_date.csv\").drop(columns = 'Unnamed: 0')"
   ]
  },
  {
   "cell_type": "code",
   "execution_count": 5,
   "metadata": {},
   "outputs": [],
   "source": [
    "use = miss.merge(cnt, left_on = 'created_at',right_on = 'date')"
   ]
  },
  {
   "cell_type": "code",
   "execution_count": 6,
   "metadata": {},
   "outputs": [],
   "source": [
    "use['date'] = pd.to_datetime(use['date'])"
   ]
  },
  {
   "cell_type": "code",
   "execution_count": 41,
   "metadata": {},
   "outputs": [
    {
     "data": {
      "image/png": "[encoded data removed]",
      "text/plain": [
       "<Figure size 1000x600 with 1 Axes>"
      ]
     },
     "metadata": {},
     "output_type": "display_data"
    }
   ],
   "source": [
    "# Set 'date' as the index for easier plotting\n",
    "# use.set_index('date', inplace=True)\n",
    "\n",
    "# Plotting the data\n",
    "plt.figure(figsize=(10, 6))\n",
    "\n",
    "plt.plot(use.index, use['message_id_count'], label='message_id_count', marker='')\n",
    "#plt.plot(use.index, use['parent_message_id_count'], label='parent_message_id_count', marker='')\n",
    "#plt.plot(use.index, use['in_reply_to_message_id_count'], label='in_reply_to_message_id_count', marker='')\n",
    "plt.plot(use.index, use['missing_btw'], label='missing_btw', marker='')\n",
    "\n",
    "# Adding labels and title\n",
    "plt.xlabel('Date')\n",
    "plt.ylabel('Message Count')\n",
    "plt.title('Message Counts Over Time')\n",
    "plt.legend()\n",
    "\n",
    "# Display the plot\n",
    "plt.show()"
   ]
  },
  {
   "cell_type": "code",
   "execution_count": 7,
   "metadata": {},
   "outputs": [],
   "source": [
    "use1 = use.reset_index()[['month','missing_btw','message_id_count','parent_message_id_count','in_reply_to_message_id_count']]\n",
    "use1['month'] = pd.to_datetime(use1['month'])\n",
    "use2 = use1.groupby(by = 'month').sum()\n",
    "use = use2"
   ]
  },
  {
   "cell_type": "code",
   "execution_count": 8,
   "metadata": {},
   "outputs": [
    {
     "data": {
      "text/html": [
       "<div>\n",
       "<style scoped>\n",
       "    .dataframe tbody tr th:only-of-type {\n",
       "        vertical-align: middle;\n",
       "    }\n",
       "\n",
       "    .dataframe tbody tr th {\n",
       "        vertical-align: top;\n",
       "    }\n",
       "\n",
       "    .dataframe thead th {\n",
       "        text-align: right;\n",
       "    }\n",
       "</style>\n",
       "<table border=\"1\" class=\"dataframe\">\n",
       "  <thead>\n",
       "    <tr style=\"text-align: right;\">\n",
       "      <th></th>\n",
       "      <th>missing_btw</th>\n",
       "      <th>message_id_count</th>\n",
       "      <th>parent_message_id_count</th>\n",
       "      <th>in_reply_to_message_id_count</th>\n",
       "    </tr>\n",
       "    <tr>\n",
       "      <th>month</th>\n",
       "      <th></th>\n",
       "      <th></th>\n",
       "      <th></th>\n",
       "      <th></th>\n",
       "    </tr>\n",
       "  </thead>\n",
       "  <tbody>\n",
       "    <tr>\n",
       "      <th>2008-05-01</th>\n",
       "      <td>51.0</td>\n",
       "      <td>74</td>\n",
       "      <td>0</td>\n",
       "      <td>0</td>\n",
       "    </tr>\n",
       "    <tr>\n",
       "      <th>2008-06-01</th>\n",
       "      <td>431.0</td>\n",
       "      <td>741</td>\n",
       "      <td>0</td>\n",
       "      <td>0</td>\n",
       "    </tr>\n",
       "    <tr>\n",
       "      <th>2008-07-01</th>\n",
       "      <td>570.0</td>\n",
       "      <td>895</td>\n",
       "      <td>0</td>\n",
       "      <td>0</td>\n",
       "    </tr>\n",
       "    <tr>\n",
       "      <th>2008-08-01</th>\n",
       "      <td>537.0</td>\n",
       "      <td>1074</td>\n",
       "      <td>0</td>\n",
       "      <td>0</td>\n",
       "    </tr>\n",
       "    <tr>\n",
       "      <th>2008-09-01</th>\n",
       "      <td>1187.0</td>\n",
       "      <td>3315</td>\n",
       "      <td>0</td>\n",
       "      <td>0</td>\n",
       "    </tr>\n",
       "  </tbody>\n",
       "</table>\n",
       "</div>"
      ],
      "text/plain": [
       "            missing_btw  message_id_count  parent_message_id_count  \\\n",
       "month                                                                \n",
       "2008-05-01         51.0                74                        0   \n",
       "2008-06-01        431.0               741                        0   \n",
       "2008-07-01        570.0               895                        0   \n",
       "2008-08-01        537.0              1074                        0   \n",
       "2008-09-01       1187.0              3315                        0   \n",
       "\n",
       "            in_reply_to_message_id_count  \n",
       "month                                     \n",
       "2008-05-01                             0  \n",
       "2008-06-01                             0  \n",
       "2008-07-01                             0  \n",
       "2008-08-01                             0  \n",
       "2008-09-01                             0  "
      ]
     },
     "execution_count": 8,
     "metadata": {},
     "output_type": "execute_result"
    }
   ],
   "source": [
    "use2.head()"
   ]
  },
  {
   "cell_type": "code",
   "execution_count": 44,
   "metadata": {},
   "outputs": [
    {
     "data": {
      "image/png": "[encoded data removed]",
      "text/plain": [
       "<Figure size 1000x600 with 1 Axes>"
      ]
     },
     "metadata": {},
     "output_type": "display_data"
    }
   ],
   "source": [
    "# Plotting the data\n",
    "plt.figure(figsize=(10, 6))\n",
    "\n",
    "plt.plot(use.index, use['message_id_count'], label='message_id_count', marker='')\n",
    "#plt.plot(use.index, use['parent_message_id_count'], label='parent_message_id_count', marker='')\n",
    "#plt.plot(use.index, use['in_reply_to_message_id_count'], label='in_reply_to_message_id_count', marker='')\n",
    "plt.plot(use.index, use['missing_btw'], label='missing_btw', marker='')\n",
    "\n",
    "# Adding labels and title\n",
    "plt.xlabel('Date')\n",
    "plt.ylabel('Message Count')\n",
    "plt.title('Message Counts Over Time')\n",
    "plt.legend()\n",
    "\n",
    "# Display the plot\n",
    "plt.show()"
   ]
  },
  {
   "cell_type": "code",
   "execution_count": 46,
   "metadata": {},
   "outputs": [
    {
     "data": {
      "text/html": [
       "<div>\n",
       "<style scoped>\n",
       "    .dataframe tbody tr th:only-of-type {\n",
       "        vertical-align: middle;\n",
       "    }\n",
       "\n",
       "    .dataframe tbody tr th {\n",
       "        vertical-align: top;\n",
       "    }\n",
       "\n",
       "    .dataframe thead th {\n",
       "        text-align: right;\n",
       "    }\n",
       "</style>\n",
       "<table border=\"1\" class=\"dataframe\">\n",
       "  <thead>\n",
       "    <tr style=\"text-align: right;\">\n",
       "      <th></th>\n",
       "      <th>missing_btw</th>\n",
       "      <th>message_id_count</th>\n",
       "      <th>parent_message_id_count</th>\n",
       "      <th>in_reply_to_message_id_count</th>\n",
       "    </tr>\n",
       "    <tr>\n",
       "      <th>month</th>\n",
       "      <th></th>\n",
       "      <th></th>\n",
       "      <th></th>\n",
       "      <th></th>\n",
       "    </tr>\n",
       "  </thead>\n",
       "  <tbody>\n",
       "    <tr>\n",
       "      <th>2008-05-01</th>\n",
       "      <td>51.0</td>\n",
       "      <td>74</td>\n",
       "      <td>0</td>\n",
       "      <td>0</td>\n",
       "    </tr>\n",
       "    <tr>\n",
       "      <th>2008-06-01</th>\n",
       "      <td>431.0</td>\n",
       "      <td>741</td>\n",
       "      <td>0</td>\n",
       "      <td>0</td>\n",
       "    </tr>\n",
       "    <tr>\n",
       "      <th>2008-07-01</th>\n",
       "      <td>570.0</td>\n",
       "      <td>895</td>\n",
       "      <td>0</td>\n",
       "      <td>0</td>\n",
       "    </tr>\n",
       "    <tr>\n",
       "      <th>2008-08-01</th>\n",
       "      <td>537.0</td>\n",
       "      <td>1074</td>\n",
       "      <td>0</td>\n",
       "      <td>0</td>\n",
       "    </tr>\n",
       "    <tr>\n",
       "      <th>2008-09-01</th>\n",
       "      <td>1187.0</td>\n",
       "      <td>3315</td>\n",
       "      <td>0</td>\n",
       "      <td>0</td>\n",
       "    </tr>\n",
       "  </tbody>\n",
       "</table>\n",
       "</div>"
      ],
      "text/plain": [
       "            missing_btw  message_id_count  parent_message_id_count  \\\n",
       "month                                                                \n",
       "2008-05-01         51.0                74                        0   \n",
       "2008-06-01        431.0               741                        0   \n",
       "2008-07-01        570.0               895                        0   \n",
       "2008-08-01        537.0              1074                        0   \n",
       "2008-09-01       1187.0              3315                        0   \n",
       "\n",
       "            in_reply_to_message_id_count  \n",
       "month                                     \n",
       "2008-05-01                             0  \n",
       "2008-06-01                             0  \n",
       "2008-07-01                             0  \n",
       "2008-08-01                             0  \n",
       "2008-09-01                             0  "
      ]
     },
     "execution_count": 46,
     "metadata": {},
     "output_type": "execute_result"
    }
   ],
   "source": [
    "use.head()"
   ]
  },
  {
   "cell_type": "code",
   "execution_count": 9,
   "metadata": {},
   "outputs": [
    {
     "data": {
      "text/html": [
       "<div>\n",
       "<style scoped>\n",
       "    .dataframe tbody tr th:only-of-type {\n",
       "        vertical-align: middle;\n",
       "    }\n",
       "\n",
       "    .dataframe tbody tr th {\n",
       "        vertical-align: top;\n",
       "    }\n",
       "\n",
       "    .dataframe thead th {\n",
       "        text-align: right;\n",
       "    }\n",
       "</style>\n",
       "<table border=\"1\" class=\"dataframe\">\n",
       "  <thead>\n",
       "    <tr style=\"text-align: right;\">\n",
       "      <th></th>\n",
       "      <th>missing_btw</th>\n",
       "      <th>message_id_count</th>\n",
       "      <th>parent_message_id_count</th>\n",
       "      <th>in_reply_to_message_id_count</th>\n",
       "      <th>miss_rate</th>\n",
       "    </tr>\n",
       "    <tr>\n",
       "      <th>month</th>\n",
       "      <th></th>\n",
       "      <th></th>\n",
       "      <th></th>\n",
       "      <th></th>\n",
       "      <th></th>\n",
       "    </tr>\n",
       "  </thead>\n",
       "  <tbody>\n",
       "    <tr>\n",
       "      <th>2008-05-01</th>\n",
       "      <td>51.0</td>\n",
       "      <td>74</td>\n",
       "      <td>0</td>\n",
       "      <td>0</td>\n",
       "      <td>0.408000</td>\n",
       "    </tr>\n",
       "    <tr>\n",
       "      <th>2008-06-01</th>\n",
       "      <td>431.0</td>\n",
       "      <td>741</td>\n",
       "      <td>0</td>\n",
       "      <td>0</td>\n",
       "      <td>0.367747</td>\n",
       "    </tr>\n",
       "    <tr>\n",
       "      <th>2008-07-01</th>\n",
       "      <td>570.0</td>\n",
       "      <td>895</td>\n",
       "      <td>0</td>\n",
       "      <td>0</td>\n",
       "      <td>0.389078</td>\n",
       "    </tr>\n",
       "    <tr>\n",
       "      <th>2008-08-01</th>\n",
       "      <td>537.0</td>\n",
       "      <td>1074</td>\n",
       "      <td>0</td>\n",
       "      <td>0</td>\n",
       "      <td>0.333333</td>\n",
       "    </tr>\n",
       "    <tr>\n",
       "      <th>2008-09-01</th>\n",
       "      <td>1187.0</td>\n",
       "      <td>3315</td>\n",
       "      <td>0</td>\n",
       "      <td>0</td>\n",
       "      <td>0.263661</td>\n",
       "    </tr>\n",
       "  </tbody>\n",
       "</table>\n",
       "</div>"
      ],
      "text/plain": [
       "            missing_btw  message_id_count  parent_message_id_count  \\\n",
       "month                                                                \n",
       "2008-05-01         51.0                74                        0   \n",
       "2008-06-01        431.0               741                        0   \n",
       "2008-07-01        570.0               895                        0   \n",
       "2008-08-01        537.0              1074                        0   \n",
       "2008-09-01       1187.0              3315                        0   \n",
       "\n",
       "            in_reply_to_message_id_count  miss_rate  \n",
       "month                                                \n",
       "2008-05-01                             0   0.408000  \n",
       "2008-06-01                             0   0.367747  \n",
       "2008-07-01                             0   0.389078  \n",
       "2008-08-01                             0   0.333333  \n",
       "2008-09-01                             0   0.263661  "
      ]
     },
     "execution_count": 9,
     "metadata": {},
     "output_type": "execute_result"
    }
   ],
   "source": [
    "use['miss_rate'] = use['missing_btw']/(use['message_id_count']+ use['missing_btw'])\n",
    "use.head()"
   ]
  },
  {
   "cell_type": "code",
   "execution_count": 50,
   "metadata": {},
   "outputs": [
    {
     "data": {
      "image/png": "[encoded data removed]",
      "text/plain": [
       "<Figure size 1000x600 with 1 Axes>"
      ]
     },
     "metadata": {},
     "output_type": "display_data"
    }
   ],
   "source": [
    "# Plotting the data\n",
    "plt.figure(figsize=(10, 6))\n",
    "\n",
    "plt.plot(use.index, use['miss_rate'], label='Missing Rate 1 = miss_count/mes_count', marker='')\n",
    "#plt.plot(use.index, use['parent_message_id_count'], label='parent_message_id_count', marker='')\n",
    "#plt.plot(use.index, use['in_reply_to_message_id_count'], label='in_reply_to_message_id_count', marker='')\n",
    "#plt.plot(use.index, use['missing_btw'], label='missing_btw', marker='')\n",
    "\n",
    "# Adding labels and title\n",
    "plt.xlabel('Date')\n",
    "plt.ylabel('Missing Rate 1')\n",
    "plt.title('Missing Message Rate Over Time')\n",
    "plt.legend()\n",
    "\n",
    "# Display the plot\n",
    "plt.show()"
   ]
  },
  {
   "cell_type": "code",
   "execution_count": 10,
   "metadata": {},
   "outputs": [
    {
     "data": {
      "image/png": "[encoded data removed]",
      "text/plain": [
       "<Figure size 1000x600 with 1 Axes>"
      ]
     },
     "metadata": {},
     "output_type": "display_data"
    }
   ],
   "source": [
    "# Plotting the data\n",
    "plt.figure(figsize=(10, 6))\n",
    "\n",
    "plt.plot(use.index, use['miss_rate'], label='Missing Rate 2 = miss_count/(mes_count+miss_count)', marker='')\n",
    "#plt.plot(use.index, use['parent_message_id_count'], label='parent_message_id_count', marker='')\n",
    "#plt.plot(use.index, use['in_reply_to_message_id_count'], label='in_reply_to_message_id_count', marker='')\n",
    "#plt.plot(use.index, use['missing_btw'], label='missing_btw', marker='')\n",
    "\n",
    "# Adding labels and title\n",
    "plt.xlabel('Date')\n",
    "plt.ylabel('Missing Rate')\n",
    "plt.title('Missing Message Rate Over Time')\n",
    "plt.legend()\n",
    "\n",
    "# Display the plot\n",
    "plt.show()"
   ]
  },
  {
   "cell_type": "code",
   "execution_count": null,
   "metadata": {},
   "outputs": [],
   "source": []
  },
  {
   "cell_type": "markdown",
   "metadata": {},
   "source": [
    "### Making have symbol and have sentiemnt file"
   ]
  },
  {
   "cell_type": "code",
   "execution_count": 2,
   "metadata": {},
   "outputs": [
    {
     "name": "stdout",
     "output_type": "stream",
     "text": [
      "part_1.csv added\n",
      "part_2.csv added\n",
      "part_3.csv added\n",
      "part_4.csv added\n",
      "part_5.csv added\n",
      "part_6.csv added\n"
     ]
    }
   ],
   "source": [
    "dfs = []\n",
    "for i in range(1,7):\n",
    "    df = pd.read_csv(f'E:\\\\analysis_data\\\\have_sentiment\\\\part_{i}.csv').drop(columns = ['Unnamed: 0'])\n",
    "    df = df.loc[df['created_at']<='2022-12-31']\n",
    "    dfs.append(df)\n",
    "    print(f'part_{i}.csv added')\n",
    "big = pd.concat(dfs)\n",
    "dfs = ''\n",
    "big.to_csv('E:\\\\analysis_data\\\\have_sentiment_big.csv')"
   ]
  },
  {
   "cell_type": "code",
   "execution_count": 2,
   "metadata": {},
   "outputs": [
    {
     "name": "stdout",
     "output_type": "stream",
     "text": [
      "part_1.csv added\n",
      "part_2.csv added\n",
      "part_3.csv added\n",
      "part_4.csv added\n",
      "part_5.csv added\n",
      "part_6.csv added\n"
     ]
    }
   ],
   "source": [
    "dfs = []\n",
    "for i in range(1,7):\n",
    "    df = pd.read_csv(f'E:\\\\analysis_data\\\\have_symbol\\\\part_{i}.csv').drop(columns = ['Unnamed: 0'])\n",
    "    df = df.loc[df['created_at']<='2022-12-31']\n",
    "    dfs.append(df)\n",
    "    print(f'part_{i}.csv added')\n",
    "big = pd.concat(dfs)\n",
    "dfs = ''\n",
    "big.to_csv('E:\\\\analysis_data\\\\have_symbol_big.csv')"
   ]
  },
  {
   "cell_type": "code",
   "execution_count": 2,
   "metadata": {},
   "outputs": [
    {
     "name": "stdout",
     "output_type": "stream",
     "text": [
      "part_1.csv added\n",
      "part_2.csv added\n",
      "part_3.csv added\n",
      "part_4.csv added\n",
      "part_5.csv added\n",
      "part_6.csv added\n"
     ]
    }
   ],
   "source": [
    "dfs = []\n",
    "for i in range(1,7):\n",
    "    df = pd.read_csv(f'E:\\\\analysis_data\\\\have_symbol_sentiment\\\\part_{i}.csv').drop(columns = ['Unnamed: 0'])\n",
    "    df = df.loc[df['created_at']<='2022-12-31']\n",
    "    dfs.append(df)\n",
    "    print(f'part_{i}.csv added')\n",
    "big = pd.concat(dfs)\n",
    "dfs = ''\n",
    "big.to_csv('E:\\\\analysis_data\\\\have_symbol_sentimnet_big.csv')"
   ]
  }
 ],
 "metadata": {
  "kernelspec": {
   "display_name": "Python 3",
   "language": "python",
   "name": "python3"
  },
  "language_info": {
   "codemirror_mode": {
    "name": "ipython",
    "version": 3
   },
   "file_extension": ".py",
   "mimetype": "text/x-python",
   "name": "python",
   "nbconvert_exporter": "python",
   "pygments_lexer": "ipython3",
   "version": "3.11.2"
  }
 },
 "nbformat": 4,
 "nbformat_minor": 2
}
